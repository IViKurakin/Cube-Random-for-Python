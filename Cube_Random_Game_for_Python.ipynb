{
  "nbformat": 4,
  "nbformat_minor": 0,
  "metadata": {
    "colab": {
      "provenance": [],
      "authorship_tag": "ABX9TyNBUfoXPDg2kOsgzBGzf+oh",
      "include_colab_link": true
    },
    "kernelspec": {
      "name": "python3",
      "display_name": "Python 3"
    },
    "language_info": {
      "name": "python"
    }
  },
  "cells": [
    {
      "cell_type": "markdown",
      "metadata": {
        "id": "view-in-github",
        "colab_type": "text"
      },
      "source": [
        "<a href=\"https://colab.research.google.com/github/IViKurakin/Cube-Random-for-Python/blob/main/Cube_Random_Game_for_Python.ipynb\" target=\"_parent\"><img src=\"https://colab.research.google.com/assets/colab-badge.svg\" alt=\"Open In Colab\"/></a>"
      ]
    },
    {
      "cell_type": "code",
      "execution_count": null,
      "metadata": {
        "id": "MIJ-y7sUn5ME"
      },
      "outputs": [],
      "source": [
        "from tkinter import *\n",
        "import random\n",
        "\n",
        "window = Tk()\n",
        "window.title(\"Cube Random Game\")\n",
        "window.geometry(\"300x300\")\n",
        "window.resizable(False, False)\n",
        "\n",
        "# ФУНКЦИОНАЛЬНАЯ ЧАСТЬ\n",
        "def Game():\n",
        "  global file\n",
        "  x=random.randint(1,6)\n",
        "  y=random.randint(1,6)\n",
        "  file=PhotoImage(file=f'{x}.png')\n",
        "  Label(image=file).pack()\n",
        "\n",
        "# КОМПОНЕНТЫ ОКНА\n",
        "Label(text=\"Hello world!\").place(relwidth=1)\n",
        "Button(text=\"Click me!\", command=Game).pack()\n",
        "\n",
        "window.mainloop()"
      ]
    }
  ]
}